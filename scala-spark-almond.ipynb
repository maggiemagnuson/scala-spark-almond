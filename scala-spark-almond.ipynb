{
 "cells": [
  {
   "cell_type": "code",
   "execution_count": 1,
   "metadata": {},
   "outputs": [
    {
     "data": {
      "text/plain": [
       "\u001b[32mimport \u001b[39m\u001b[36m$ivy.$                                  \n",
       "\u001b[39m\n",
       "\u001b[32mimport \u001b[39m\u001b[36m$ivy.$                               \u001b[39m"
      ]
     },
     "execution_count": 1,
     "metadata": {},
     "output_type": "execute_result"
    }
   ],
   "source": [
    "import $ivy.`org.apache.spark::spark-sql:2.4.0`\n",
    "import $ivy.`sh.almond::almond-spark:0.10.0`"
   ]
  },
  {
   "cell_type": "code",
   "execution_count": 2,
   "metadata": {},
   "outputs": [
    {
     "data": {
      "text/plain": [
       "\u001b[32mimport \u001b[39m\u001b[36morg.apache.log4j.{Level, Logger}\n",
       "\u001b[39m"
      ]
     },
     "execution_count": 2,
     "metadata": {},
     "output_type": "execute_result"
    }
   ],
   "source": [
    "import org.apache.log4j.{Level, Logger}\n",
    "Logger.getLogger(\"org\").setLevel(Level.OFF)"
   ]
  },
  {
   "cell_type": "code",
   "execution_count": 3,
   "metadata": {},
   "outputs": [
    {
     "data": {
      "text/plain": [
       "\u001b[32mimport \u001b[39m\u001b[36morg.apache.spark.sql._\n",
       "\u001b[39m\n",
       "\u001b[32mimport \u001b[39m\u001b[36morg.apache.spark.sql.functions.avg\u001b[39m"
      ]
     },
     "execution_count": 3,
     "metadata": {},
     "output_type": "execute_result"
    }
   ],
   "source": [
    "import org.apache.spark.sql._\n",
    "import org.apache.spark.sql.functions.avg"
   ]
  },
  {
   "cell_type": "code",
   "execution_count": 4,
   "metadata": {},
   "outputs": [
    {
     "name": "stderr",
     "output_type": "stream",
     "text": [
      "Using Spark's default log4j profile: org/apache/spark/log4j-defaults.properties\n"
     ]
    },
    {
     "data": {
      "text/plain": [
       "\u001b[36mspark\u001b[39m: \u001b[32mSparkSession\u001b[39m = org.apache.spark.sql.SparkSession@5fcc4fc2"
      ]
     },
     "execution_count": 4,
     "metadata": {},
     "output_type": "execute_result"
    }
   ],
   "source": [
    "// Could also add SPARK_LOCAL_IP as env var\n",
    "val spark = SparkSession\n",
    "            .builder\n",
    "            .appName(\"foo1\")\n",
    "            .master(\"local[*]\")\n",
    "            .config(\"spark.driver.bindAddress\", \"127.0.0.1\")\n",
    "            .getOrCreate()"
   ]
  },
  {
   "cell_type": "code",
   "execution_count": 5,
   "metadata": {},
   "outputs": [
    {
     "data": {
      "text/plain": [
       "\u001b[36mres4\u001b[39m: \u001b[32mSparkSession\u001b[39m = org.apache.spark.sql.SparkSession@5fcc4fc2"
      ]
     },
     "execution_count": 5,
     "metadata": {},
     "output_type": "execute_result"
    }
   ],
   "source": [
    "spark"
   ]
  },
  {
   "cell_type": "code",
   "execution_count": 6,
   "metadata": {},
   "outputs": [
    {
     "data": {
      "text/plain": [
       "\u001b[36mdataDF\u001b[39m: \u001b[32mDataFrame\u001b[39m = [name: string, age: int]"
      ]
     },
     "execution_count": 6,
     "metadata": {},
     "output_type": "execute_result"
    }
   ],
   "source": [
    "val dataDF = spark.createDataFrame(Seq((\"Brooke\", 20), (\"Brooke\", 25), \n",
    "  (\"Denny\", 31), (\"Jules\", 30), (\"TD\", 35))).toDF(\"name\", \"age\")"
   ]
  },
  {
   "cell_type": "code",
   "execution_count": 7,
   "metadata": {},
   "outputs": [
    {
     "data": {
      "text/plain": [
       "\u001b[36mavgDF\u001b[39m: \u001b[32mDataFrame\u001b[39m = [name: string, avg(age): double]"
      ]
     },
     "execution_count": 7,
     "metadata": {},
     "output_type": "execute_result"
    }
   ],
   "source": [
    "val avgDF = dataDF.groupBy(\"name\").agg(avg(\"age\"))"
   ]
  },
  {
   "cell_type": "code",
   "execution_count": 8,
   "metadata": {},
   "outputs": [
    {
     "name": "stdout",
     "output_type": "stream",
     "text": [
      "+------+--------+\n",
      "|  name|avg(age)|\n",
      "+------+--------+\n",
      "|Brooke|    22.5|\n",
      "| Jules|    30.0|\n",
      "|    TD|    35.0|\n",
      "| Denny|    31.0|\n",
      "+------+--------+\n",
      "\n"
     ]
    }
   ],
   "source": [
    "avgDF.show()"
   ]
  },
  {
   "cell_type": "code",
   "execution_count": 12,
   "metadata": {},
   "outputs": [
    {
     "data": {
      "text/plain": [
       "\u001b[36msc\u001b[39m: \u001b[32morg\u001b[39m.\u001b[32mapache\u001b[39m.\u001b[32mspark\u001b[39m.\u001b[32mSparkContext\u001b[39m = org.apache.spark.SparkContext@58768acf"
      ]
     },
     "execution_count": 12,
     "metadata": {},
     "output_type": "execute_result"
    }
   ],
   "source": [
    "val sc = spark.sparkContext"
   ]
  },
  {
   "cell_type": "code",
   "execution_count": 13,
   "metadata": {},
   "outputs": [
    {
     "data": {
      "text/plain": [
       "\u001b[36mdataRDD\u001b[39m: \u001b[32morg\u001b[39m.\u001b[32mapache\u001b[39m.\u001b[32mspark\u001b[39m.\u001b[32mrdd\u001b[39m.\u001b[32mRDD\u001b[39m[(\u001b[32mString\u001b[39m, \u001b[32mDouble\u001b[39m)] = ParallelCollectionRDD[8] at parallelize at cmd12.sc:1"
      ]
     },
     "execution_count": 13,
     "metadata": {},
     "output_type": "execute_result"
    }
   ],
   "source": [
    "val dataRDD = sc.parallelize(Seq((\"Brooke\", 20.0), (\"Denny\", 31.0), (\"Jules\", 30.0), \n",
    "  (\"TD\", 35.0), (\"Brooke\", 25.0)))"
   ]
  },
  {
   "cell_type": "code",
   "execution_count": 14,
   "metadata": {},
   "outputs": [
    {
     "data": {
      "text/plain": [
       "\u001b[36mm\u001b[39m: \u001b[32morg\u001b[39m.\u001b[32mapache\u001b[39m.\u001b[32mspark\u001b[39m.\u001b[32mrdd\u001b[39m.\u001b[32mRDD\u001b[39m[(\u001b[32mString\u001b[39m, (\u001b[32mDouble\u001b[39m, \u001b[32mInt\u001b[39m))] = MapPartitionsRDD[9] at map at cmd13.sc:1"
      ]
     },
     "execution_count": 14,
     "metadata": {},
     "output_type": "execute_result"
    }
   ],
   "source": [
    "val m = dataRDD.map(f => (f._1, (f._2, 1)))"
   ]
  },
  {
   "cell_type": "code",
   "execution_count": 15,
   "metadata": {},
   "outputs": [
    {
     "data": {
      "text/plain": [
       "\u001b[36magesRDD\u001b[39m: \u001b[32morg\u001b[39m.\u001b[32mapache\u001b[39m.\u001b[32mspark\u001b[39m.\u001b[32mrdd\u001b[39m.\u001b[32mRDD\u001b[39m[(\u001b[32mString\u001b[39m, (\u001b[32mDouble\u001b[39m, \u001b[32mInt\u001b[39m))] = ShuffledRDD[10] at reduceByKey at cmd14.sc:1"
      ]
     },
     "execution_count": 15,
     "metadata": {},
     "output_type": "execute_result"
    }
   ],
   "source": [
    "val agesRDD = m.reduceByKey((x, y) => (x._1 + y._1, x._2 + y._2))"
   ]
  },
  {
   "cell_type": "code",
   "execution_count": 16,
   "metadata": {},
   "outputs": [
    {
     "data": {
      "text/plain": [
       "\u001b[36mres15\u001b[39m: \u001b[32mArray\u001b[39m[(\u001b[32mString\u001b[39m, (\u001b[32mDouble\u001b[39m, \u001b[32mInt\u001b[39m))] = \u001b[33mArray\u001b[39m(\n",
       "  (\u001b[32m\"Brooke\"\u001b[39m, (\u001b[32m20.0\u001b[39m, \u001b[32m1\u001b[39m)),\n",
       "  (\u001b[32m\"Denny\"\u001b[39m, (\u001b[32m31.0\u001b[39m, \u001b[32m1\u001b[39m)),\n",
       "  (\u001b[32m\"Jules\"\u001b[39m, (\u001b[32m30.0\u001b[39m, \u001b[32m1\u001b[39m)),\n",
       "  (\u001b[32m\"TD\"\u001b[39m, (\u001b[32m35.0\u001b[39m, \u001b[32m1\u001b[39m)),\n",
       "  (\u001b[32m\"Brooke\"\u001b[39m, (\u001b[32m25.0\u001b[39m, \u001b[32m1\u001b[39m))\n",
       ")"
      ]
     },
     "execution_count": 16,
     "metadata": {},
     "output_type": "execute_result"
    }
   ],
   "source": [
    "m.collect()"
   ]
  },
  {
   "cell_type": "code",
   "execution_count": 17,
   "metadata": {},
   "outputs": [
    {
     "data": {
      "text/plain": [
       "\u001b[36mres16\u001b[39m: \u001b[32mArray\u001b[39m[(\u001b[32mString\u001b[39m, (\u001b[32mDouble\u001b[39m, \u001b[32mInt\u001b[39m))] = \u001b[33mArray\u001b[39m(\n",
       "  (\u001b[32m\"Denny\"\u001b[39m, (\u001b[32m31.0\u001b[39m, \u001b[32m1\u001b[39m)),\n",
       "  (\u001b[32m\"TD\"\u001b[39m, (\u001b[32m35.0\u001b[39m, \u001b[32m1\u001b[39m)),\n",
       "  (\u001b[32m\"Brooke\"\u001b[39m, (\u001b[32m45.0\u001b[39m, \u001b[32m2\u001b[39m)),\n",
       "  (\u001b[32m\"Jules\"\u001b[39m, (\u001b[32m30.0\u001b[39m, \u001b[32m1\u001b[39m))\n",
       ")"
      ]
     },
     "execution_count": 17,
     "metadata": {},
     "output_type": "execute_result"
    }
   ],
   "source": [
    "agesRDD.collect()"
   ]
  },
  {
   "cell_type": "code",
   "execution_count": 18,
   "metadata": {},
   "outputs": [
    {
     "data": {
      "text/plain": [
       "\u001b[36mavgRDD\u001b[39m: \u001b[32morg\u001b[39m.\u001b[32mapache\u001b[39m.\u001b[32mspark\u001b[39m.\u001b[32mrdd\u001b[39m.\u001b[32mRDD\u001b[39m[(\u001b[32mString\u001b[39m, \u001b[32mDouble\u001b[39m)] = MapPartitionsRDD[11] at map at cmd17.sc:1"
      ]
     },
     "execution_count": 18,
     "metadata": {},
     "output_type": "execute_result"
    }
   ],
   "source": [
    "val avgRDD = agesRDD.map(f => (f._1, f._2._1/f._2._2))"
   ]
  },
  {
   "cell_type": "code",
   "execution_count": 19,
   "metadata": {},
   "outputs": [
    {
     "data": {
      "text/plain": [
       "\u001b[36mres18\u001b[39m: \u001b[32mArray\u001b[39m[(\u001b[32mString\u001b[39m, \u001b[32mDouble\u001b[39m)] = \u001b[33mArray\u001b[39m(\n",
       "  (\u001b[32m\"Denny\"\u001b[39m, \u001b[32m31.0\u001b[39m),\n",
       "  (\u001b[32m\"TD\"\u001b[39m, \u001b[32m35.0\u001b[39m),\n",
       "  (\u001b[32m\"Brooke\"\u001b[39m, \u001b[32m22.5\u001b[39m),\n",
       "  (\u001b[32m\"Jules\"\u001b[39m, \u001b[32m30.0\u001b[39m)\n",
       ")"
      ]
     },
     "execution_count": 19,
     "metadata": {},
     "output_type": "execute_result"
    }
   ],
   "source": [
    "avgRDD.collect()"
   ]
  },
  {
   "cell_type": "markdown",
   "metadata": {},
   "source": [
    "## Basic Scala data types in Spark\n",
    "|Data type | Value assigned in Scala |\tAPI to instantiate |\n",
    "|----------| ------------------------| ---------------------------|\n",
    "|ByteType|\tByte|\tDataTypes.ByteType|\n",
    "|ShortType|\tShort|\tDataTypes.ShortType|\n",
    "|IntegerType|\tInt|\tDataTypes.IntegerType|\n",
    "|LongType|\tLong|\tDataTypes.LongType|\n",
    "|FloatType|\tFloat|\tDataTypes.FloatType|\n",
    "|DoubleType|\tDouble|\tDataTypes.DoubleType|\n",
    "|StringType|\tString|\tDataTypes.StringType|\n",
    "|BooleanType|\tBoolean|\tDataTypes.BooleanType|\n",
    "|DecimalType|\tjava.math.BigDecimal|\tDecimalType|\n",
    "\n",
    "## Basic Python data types in Spark\n",
    "|Data type | Value assigned in Python |\tAPI to instantiate |\n",
    "|----------| ------------------------| ---------------------------|\n",
    "|ByteType|\tint|\tDataTypes.ByteType|\n",
    "|ShortType|\tint|\tDataTypes.ShortType|\n",
    "|IntegerType|\tint|\tDataTypes.IntegerType|\n",
    "|LongType|\tint|\tDataTypes.LongType|\n",
    "|FloatType|\tfloat|\tDataTypes.FloatType|\n",
    "|DoubleType|\tfloat|\tDataTypes.DoubleType|\n",
    "|StringType|\tstr|\tDataTypes.StringType|\n",
    "|BooleanType|\tbool|\tDataTypes.BooleanType|\n",
    "|DecimalType|\tdecimal.Decimal|\tDecimalType|\n",
    "\n",
    "## Spark’s Structured and Complex Data Types in Scala\n",
    "|Data type |\tValue assigned in Scala|\tAPI to instantiate\n",
    "|----------| ------------------------| ---------------------------|\n",
    "|BinaryType|\tArray[Byte]|\tDataTypes.BinaryType|\n",
    "|TimestampType|\tjava.sql.Timestamp|\tDataTypes.TimestampType|\n",
    "|DateType|\tjava.sql.Date|\tDataTypes.DateType|\n",
    "|ArrayType|\tscala.collection.Seq|\tDataTypes.createArrayType(ElementType)|\n",
    "|MapType|\tscala.collection.Map|\tDataTypes.createMapType(keyType, valueType)|\n",
    "|StructType|\torg.apache.spark.sql.Row|\tStructType(ArrayType[fieldTypes])|\n",
    "|StructField|\tA value type corresponding to the type of this field|\tStructField(name, dataType, [nullable])|\n",
    "\n",
    "## Spark’s Structured and Complex Data Types in Python\n",
    "|Data type |\tValue assigned in Python|\tAPI to instantiate\n",
    "|----------| ------------------------| ---------------------------|\n",
    "|BinaryType|\tbytearray|\tBinaryType()|\n",
    "|TimestampType|\tdatetime.datetime|\tTimestampType()|\n",
    "|DateType|\tdatetime.date|\tDateType()|\n",
    "|ArrayType|\tList, tuple, or array|\tArrayType(dataType, [nullable])|\n",
    "|MapType|\tdict|\tMapType(keyType, valueType, [nullable])|\n",
    "|StructType|\tList or tuple|\tStructType([fields])|\n",
    "|StructField|\tA value type corresponding to the type of this field|\tStructField(name, dataType, [nullable])|"
   ]
  },
  {
   "cell_type": "code",
   "execution_count": null,
   "metadata": {},
   "outputs": [],
   "source": []
  }
 ],
 "metadata": {
  "kernelspec": {
   "display_name": "Scala",
   "language": "scala",
   "name": "scala"
  },
  "language_info": {
   "codemirror_mode": "text/x-scala",
   "file_extension": ".scala",
   "mimetype": "text/x-scala",
   "name": "scala",
   "nbconvert_exporter": "script",
   "version": "2.12.11"
  }
 },
 "nbformat": 4,
 "nbformat_minor": 4
}
